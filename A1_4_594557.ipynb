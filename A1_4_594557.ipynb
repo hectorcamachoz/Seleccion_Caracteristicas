{
  "nbformat": 4,
  "nbformat_minor": 0,
  "metadata": {
    "colab": {
      "provenance": [],
      "authorship_tag": "ABX9TyNGP5pbH82rLiQ0RPqjjAC+",
      "include_colab_link": true
    },
    "kernelspec": {
      "name": "python3",
      "display_name": "Python 3"
    },
    "language_info": {
      "name": "python"
    }
  },
  "cells": [
    {
      "cell_type": "markdown",
      "metadata": {
        "id": "view-in-github",
        "colab_type": "text"
      },
      "source": [
        "<a href=\"https://colab.research.google.com/github/hectorcamachoz/Seleccion_Caracteristicas/blob/main/A1_4_594557.ipynb\" target=\"_parent\"><img src=\"https://colab.research.google.com/assets/colab-badge.svg\" alt=\"Open In Colab\"/></a>"
      ]
    },
    {
      "cell_type": "markdown",
      "source": [
        "# Tarea A1.4 Seleccion de Caracteristicas\n",
        "\n",
        "En esta tarea se realizara un modelo de regresion multivariable, con variables previamente filtradas con metodos de seleccion de caracteristicas.\n",
        "\n",
        "**1.** En el primer bloque de codigo, se imporatara la base de datos, y se imprimira el tamaño y las primeras 5 filas de datos."
      ],
      "metadata": {
        "id": "wjHk8YhWHnOQ"
      }
    },
    {
      "cell_type": "code",
      "execution_count": 67,
      "metadata": {
        "colab": {
          "base_uri": "https://localhost:8080/"
        },
        "id": "O3cT96XZFxXJ",
        "outputId": "44564cca-2ac3-4c1d-97ad-eaf8f85f0de5"
      },
      "outputs": [
        {
          "output_type": "stream",
          "name": "stdout",
          "text": [
            "(1599, 12)\n",
            "   acidezFija  acidezVolatil  acidoCitrico  azucarResidual  cloruros  \\\n",
            "0         7.4           0.70          0.00             1.9     0.076   \n",
            "1         7.8           0.88          0.00             2.6     0.098   \n",
            "2         7.8           0.76          0.04             2.3     0.092   \n",
            "3        11.2           0.28          0.56             1.9     0.075   \n",
            "4         7.4           0.70          0.00             1.9     0.076   \n",
            "\n",
            "   dioxidoAzufreLibre  dioxidoAzufreTotal  densidad    pH  sulfatos  alcohol  \\\n",
            "0                11.0                34.0    0.9978  3.51      0.56      9.4   \n",
            "1                25.0                67.0    0.9968  3.20      0.68      9.8   \n",
            "2                15.0                54.0    0.9970  3.26      0.65      9.8   \n",
            "3                17.0                60.0    0.9980  3.16      0.58      9.8   \n",
            "4                11.0                34.0    0.9978  3.51      0.56      9.4   \n",
            "\n",
            "   calidad  \n",
            "0        5  \n",
            "1        5  \n",
            "2        5  \n",
            "3        6  \n",
            "4        5  \n"
          ]
        }
      ],
      "source": [
        "import pandas as pd\n",
        "from sklearn.model_selection import train_test_split\n",
        "from sklearn.linear_model import LinearRegression\n",
        "from mlxtend.feature_selection import SequentialFeatureSelector as SFS\n",
        "df = pd.read_csv('Vino_Tinto.csv')\n",
        "print(df.shape)\n",
        "print(df.head(5))"
      ]
    },
    {
      "cell_type": "markdown",
      "source": [
        "**2.** En el siguiente bloque, se dividira la base de datos, en dos, de manera aleatoria. El 80% sera utilizado para entrenar el modelo, y el 20% para probarlo. Esto se hara con la funcion train_test_split de la libreria sklearn.model_selection"
      ],
      "metadata": {
        "id": "Q-TQ3a5gIKdn"
      }
    },
    {
      "cell_type": "code",
      "source": [
        "# Para utilizar train_test_split() se importa de sklearn.model_selection\n",
        "train, test = train_test_split(df, train_size=0.8)\n",
        "print(train.shape)\n",
        "print(test.shape)\n",
        "print(train.shape[0] , '+', test.shape[0] ,'=', int(train.shape[0]) + int(test.shape[0]))\n"
      ],
      "metadata": {
        "colab": {
          "base_uri": "https://localhost:8080/"
        },
        "id": "359MheXfIMCQ",
        "outputId": "bed172ec-ade3-4a30-9217-10f6e77e2b74"
      },
      "execution_count": 68,
      "outputs": [
        {
          "output_type": "stream",
          "name": "stdout",
          "text": [
            "(1279, 12)\n",
            "(320, 12)\n",
            "1279 + 320 = 1599\n"
          ]
        }
      ]
    },
    {
      "cell_type": "markdown",
      "source": [
        "**3.** A continuacion, se realizara una seleccion hacia adelante usando todas las variables, excepto la llamada calidad, ya que esa sera nuestra variable de salida 'y'. Se utilizara la funcion 'SequentialFeatureSelector' de la libreria 'mlxtend.feature_selection'"
      ],
      "metadata": {
        "id": "VkcPDR-5I4Hn"
      }
    },
    {
      "cell_type": "code",
      "source": [
        "x_train = train.drop('calidad', axis = 1)\n",
        "y_train = train.calidad\n",
        "md = LinearRegression()\n",
        "sfs = SFS(md,k_features=(2,8),forward=True, scoring='r2',cv=10)\n",
        "sfs.fit(x_train,y_train)\n",
        "\n",
        "features = list(sfs.k_feature_names_)\n",
        "print('Variables seleccionadas: ', features)"
      ],
      "metadata": {
        "colab": {
          "base_uri": "https://localhost:8080/"
        },
        "id": "UVD42ijx_pRt",
        "outputId": "8cccd73f-5624-4c14-db28-1e763754c887"
      },
      "execution_count": 69,
      "outputs": [
        {
          "output_type": "stream",
          "name": "stdout",
          "text": [
            "Variables seleccionadas:  ['acidezVolatil', 'acidoCitrico', 'cloruros', 'dioxidoAzufreLibre', 'dioxidoAzufreTotal', 'pH', 'sulfatos', 'alcohol']\n"
          ]
        }
      ]
    },
    {
      "cell_type": "markdown",
      "source": [
        "**4.** Ahora que se tienen las variables con mayor relacion, de acuerdo al metodo de seleccion de caracteristicas hacia adelante. Se generara un modelo utilizando exclusivamente esas variables. Se utilizara la funcion 'r2_score' de la libreria 'sklearn.metrics', para medir la capacidad de prediccion del modelo."
      ],
      "metadata": {
        "id": "2qBpYrcZC3nY"
      }
    },
    {
      "cell_type": "code",
      "source": [
        "from sklearn.metrics import r2_score\n",
        "\n",
        "\n",
        "x_train_1 = train[features] #guardar las variables seleccionadas en x_train_1\n",
        "md.fit(x_train_1, y_train) #Entrenar el modelo con las nuevas variables\n",
        "\n",
        "x_test_1 = test[features] #guardar las variables seleccionadas en x_test_1\n",
        "y_test = test.calidad\n",
        "\n",
        "y_pred = md.predict(x_test_1) #predecir utilizando el nuevo modelo, utilizando x_test_1\n",
        "\n",
        "r2 = r2_score(y_test, y_pred)\n",
        "print('R2: ', r2)"
      ],
      "metadata": {
        "colab": {
          "base_uri": "https://localhost:8080/"
        },
        "id": "by4l5S9oEZba",
        "outputId": "08b15a0b-06fb-4372-8a6e-6b79fb9e8ce1"
      },
      "execution_count": 70,
      "outputs": [
        {
          "output_type": "stream",
          "name": "stdout",
          "text": [
            "R2:  0.3336042973837816\n"
          ]
        }
      ]
    },
    {
      "cell_type": "markdown",
      "source": [
        "**5.** A continuacion se hara un metodo de seleccion hacia atras, utilizando las variables previamente seleccionadas por el metodo hacia adelante."
      ],
      "metadata": {
        "id": "ZK9uyYOfGlep"
      }
    },
    {
      "cell_type": "code",
      "source": [
        "\n",
        "md_2 = LinearRegression()\n",
        "sfs_2 = SFS(md_2,k_features=(2,5),forward=False, scoring='r2',cv=10)\n",
        "\n",
        "sfs_2.fit(x_train_1, y_train)\n",
        "features_2 = list(sfs_2.k_feature_names_)\n",
        "print('Variables seleccionadas: ', features_2)"
      ],
      "metadata": {
        "colab": {
          "base_uri": "https://localhost:8080/"
        },
        "id": "IziFksgSHu5Z",
        "outputId": "16f05102-6b78-4867-8050-0e99107ad4f2"
      },
      "execution_count": 71,
      "outputs": [
        {
          "output_type": "stream",
          "name": "stdout",
          "text": [
            "Variables seleccionadas:  ['acidezVolatil', 'cloruros', 'dioxidoAzufreTotal', 'sulfatos', 'alcohol']\n"
          ]
        }
      ]
    },
    {
      "cell_type": "markdown",
      "source": [
        "**6.** Por ultimo, se generara un nuevo modelo con las nuevas variables seleccionadas por el metodo hacia adelante y hacia atras."
      ],
      "metadata": {
        "id": "uZH8EQptIdrW"
      }
    },
    {
      "cell_type": "code",
      "source": [
        "\n",
        "x_train_2 = train[features_2] #guardar las variables seleccionadas en x_train_2\n",
        "md_2.fit(x_train_2, y_train) #Entrenar el modelo con las nuevas variables\n",
        "\n",
        "x_test_2 = test[features_2] #guardar las variables seleccionadas en x_test_2\n",
        "y_test = test.calidad\n",
        "\n",
        "y_pred_2 = md_2.predict(x_test_2) #predecir utilizando el nuevo modelo, utilizando x_test_2\n",
        "\n",
        "r2 = r2_score(y_test, y_pred_2)\n",
        "print('R2: ', r2)"
      ],
      "metadata": {
        "colab": {
          "base_uri": "https://localhost:8080/"
        },
        "id": "uND_572eIuWa",
        "outputId": "74b8e1f1-a831-43f0-ec46-ac5fd92f846f"
      },
      "execution_count": 72,
      "outputs": [
        {
          "output_type": "stream",
          "name": "stdout",
          "text": [
            "R2:  0.32489028726349034\n"
          ]
        }
      ]
    },
    {
      "cell_type": "markdown",
      "source": [
        "Al observar las R2 de ambos modelos, podemos observar que la primera es mayor a la segunda, y esto no significa que sea mejor. Al momento de usar mas variables la R2 aumenta, entonces no podriamos concluir cual es el mejor modelo, para eso necesitariamos utilizar R2 ajustada, ademas es importante recalcar que en el proceso hemos caido en una fuga de datos, por lo tanto no se puede concluir con certeza cual es el mejor modelo."
      ],
      "metadata": {
        "id": "nMLt-I4ELKo4"
      }
    }
  ]
}