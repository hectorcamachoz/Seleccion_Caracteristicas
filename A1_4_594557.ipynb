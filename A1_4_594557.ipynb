{
  "nbformat": 4,
  "nbformat_minor": 0,
  "metadata": {
    "colab": {
      "provenance": [],
      "authorship_tag": "ABX9TyMUF0706nm8BI2AfNQW8PEH",
      "include_colab_link": true
    },
    "kernelspec": {
      "name": "python3",
      "display_name": "Python 3"
    },
    "language_info": {
      "name": "python"
    }
  },
  "cells": [
    {
      "cell_type": "markdown",
      "metadata": {
        "id": "view-in-github",
        "colab_type": "text"
      },
      "source": [
        "<a href=\"https://colab.research.google.com/github/hectorcamachoz/Seleccion_Caracteristicas/blob/main/A1_4_594557.ipynb\" target=\"_parent\"><img src=\"https://colab.research.google.com/assets/colab-badge.svg\" alt=\"Open In Colab\"/></a>"
      ]
    },
    {
      "cell_type": "markdown",
      "source": [
        "# Tarea A1.4 Seleccion de Caracteristicas\n",
        "\n",
        "En esta tarea se realizara un modelo de regresion multivariable, con variables previamente filtradas con metodos de seleccion de caracteristicas.\n",
        "\n",
        "**1.** En el primer bloque de codigo, se imporatara la base de datos, y se imprimira el tamaño y las primeras 5 filas de datos."
      ],
      "metadata": {
        "id": "wjHk8YhWHnOQ"
      }
    },
    {
      "cell_type": "code",
      "execution_count": 5,
      "metadata": {
        "colab": {
          "base_uri": "https://localhost:8080/"
        },
        "id": "O3cT96XZFxXJ",
        "outputId": "a9fa20ca-d818-4d14-e538-bfdbc4b2da5c"
      },
      "outputs": [
        {
          "output_type": "stream",
          "name": "stdout",
          "text": [
            "(1599, 12)\n",
            "   acidezFija  acidezVolatil  acidoCitrico  azucarResidual  cloruros  \\\n",
            "0         7.4           0.70          0.00             1.9     0.076   \n",
            "1         7.8           0.88          0.00             2.6     0.098   \n",
            "2         7.8           0.76          0.04             2.3     0.092   \n",
            "3        11.2           0.28          0.56             1.9     0.075   \n",
            "4         7.4           0.70          0.00             1.9     0.076   \n",
            "\n",
            "   dioxidoAzufreLibre  dioxidoAzufreTotal  densidad    pH  sulfatos  alcohol  \\\n",
            "0                11.0                34.0    0.9978  3.51      0.56      9.4   \n",
            "1                25.0                67.0    0.9968  3.20      0.68      9.8   \n",
            "2                15.0                54.0    0.9970  3.26      0.65      9.8   \n",
            "3                17.0                60.0    0.9980  3.16      0.58      9.8   \n",
            "4                11.0                34.0    0.9978  3.51      0.56      9.4   \n",
            "\n",
            "   calidad  \n",
            "0        5  \n",
            "1        5  \n",
            "2        5  \n",
            "3        6  \n",
            "4        5  \n"
          ]
        }
      ],
      "source": [
        "import pandas as pd\n",
        "from sklearn.model_selection import train_test_split\n",
        "df = pd.read_csv('Vino_Tinto.csv')\n",
        "print(df.shape)\n",
        "print(df.head(5))"
      ]
    },
    {
      "cell_type": "markdown",
      "source": [
        "**2.** En el siguiente bloque, se dividira la base de datos, en dos, de manera aleatoria. El 80% sera utilizado para entrenar el modelo, y el 20% para probarlo. Esto se hara con la funcion train_test_split de la libreria sklearn.model_selection"
      ],
      "metadata": {
        "id": "Q-TQ3a5gIKdn"
      }
    },
    {
      "cell_type": "code",
      "source": [
        "# Para utilizar train_test_split() se importa de sklearn.model_selection\n",
        "train, test = train_test_split(df, train_size=0.8)\n",
        "print(train.shape)\n",
        "print(test.shape)\n",
        "print(train.shape[0] , '+', test.shape[0] ,'=', int(train.shape[0]) + int(test.shape[0]))"
      ],
      "metadata": {
        "colab": {
          "base_uri": "https://localhost:8080/"
        },
        "id": "359MheXfIMCQ",
        "outputId": "bb73f3b8-7876-4bd4-b037-62c9a65ee1fc"
      },
      "execution_count": 7,
      "outputs": [
        {
          "output_type": "stream",
          "name": "stdout",
          "text": [
            "(1279, 12)\n",
            "(320, 12)\n",
            "1279 + 320 = 1599\n"
          ]
        }
      ]
    },
    {
      "cell_type": "markdown",
      "source": [
        "**3.**"
      ],
      "metadata": {
        "id": "VkcPDR-5I4Hn"
      }
    }
  ]
}